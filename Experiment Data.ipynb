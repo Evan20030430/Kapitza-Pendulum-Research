{
  "cells": [
    {
      "cell_type": "code",
      "execution_count": 47,
      "metadata": {
        "id": "mvIrrTLFUBe1"
      },
      "outputs": [],
      "source": [
        "import numpy as np\n",
        "import scipy.integrate as intgr\n",
        "import pandas as pd  \n",
        "from google.colab import files"
      ]
    },
    {
      "cell_type": "code",
      "execution_count": 48,
      "metadata": {
        "id": "x5XqAPwuURUU"
      },
      "outputs": [],
      "source": [
        "def equations(X, t, r, l, omega, theta_1, theta_2):\n",
        "  phi, eta = X\n",
        "  d_phi = eta\n",
        "  g = 9.8     # Constant\n",
        "\n",
        "  # Calculate components separately\n",
        "  # Coefficient (Constant)\n",
        "  coeff = r * omega * (theta_1 - theta_2) / 2\n",
        "\n",
        "  # Theta function\n",
        "  theta_t = (theta_1 - theta_2) / 2 * np.cos(omega*t) + (theta_1 + theta_2) / 2\n",
        "  d_theta_t = -omega * (theta_1 - theta_2) / 2 * np.sin(omega*t)\n",
        "\n",
        "  # d_eta in two parts\n",
        "  first = 1/l * (coeff * (np.sin(theta_t) * np.sin(omega*t) * d_theta_t - omega * np.cos(theta_t) * np.cos(omega*t) - g)) * np.sin(phi)\n",
        "  second = 1/l * coeff * (np.cos(theta_t) * np.sin(omega*t) * d_theta_t + omega * np.sin(theta_t) * np.cos(omega*t)) * np.cos(phi)\n",
        "\n",
        "  # Lagrange's Equation \n",
        "  d_eta = first - second\n",
        "  \n",
        "  return [d_phi, d_eta]\n",
        "\n",
        "\n",
        "# r: oscillation radius, l: length of rod, phi: angle of mass movement\n",
        "# theta_1 & theta_2: max/min angle for oscillation\n",
        "def init(r=0.05, l=0.05, omega=188.5, theta_1=3*np.pi/4, theta_2=np.pi/4, phi0=0.1, eta0=0.0, T=10):\n",
        "  t = np.arange(0, T, 0.01)    # time points to evaluate solution at\n",
        "  sol = intgr.odeint(equations, [phi0, eta0], t, args=(r, l, omega, theta_1, theta_2))\n",
        "  phi = sol[:,0]\n",
        "  return r, l, omega, phi, theta_1, theta_2, t"
      ]
    },
    {
      "cell_type": "code",
      "execution_count": 49,
      "metadata": {
        "id": "hdeVHHfPXpVL"
      },
      "outputs": [],
      "source": [
        "base_theta = [1/4, 1/2, 3/4] # Initial position of base (from 1/4 pi to 3/4 pi)\n",
        "theta_pp = [1/10, 1/8, 1/6, 1/4, 1/2] # Peak-to-peak angle oscillation of base (from 1/10 pi to 1/2 pi)\n",
        "\n",
        "for b_t in base_theta:\n",
        "  for t_pp in theta_pp:\n",
        "    file_name = \"Base theta %.2f pi, Theta_pp %.2f pi\" %(b_t, t_pp)\n",
        "    ang_1 = b_t*np.pi + t_pp*np.pi/2\n",
        "    ang_2 = b_t*np.pi - t_pp*np.pi/2\n",
        "    r, l, omega, phi, theta_1, theta_2, t = init(theta_1=ang_1, theta_2=ang_2)\n",
        "      \n",
        "    theta_t = (theta_1 - theta_2) / 2 * np.cos(omega*t) + (theta_1 + theta_2) / 2\n",
        "    x = l * np.sin(phi) + r * np.cos(theta_t) \n",
        "    y = l * np.cos(phi) + r * np.sin(theta_t)   \n",
        "\n",
        "    x = np.round(x, 4)\n",
        "    y = np.round(y, 4)\n",
        "    phi = np.round(phi, 4)\n",
        "\n",
        "    values = {'x': x, 'y': y, '\\u03C6': phi}\n",
        "    df = pd.DataFrame(values) \n",
        "    df.to_csv(file_name + '.csv') \n",
        "    #files.download(file_name + '.csv')   # Download files"
      ]
    }
  ],
  "metadata": {
    "colab": {
      "provenance": []
    },
    "kernelspec": {
      "display_name": "Python 3",
      "name": "python3"
    },
    "language_info": {
      "name": "python"
    }
  },
  "nbformat": 4,
  "nbformat_minor": 0
}
